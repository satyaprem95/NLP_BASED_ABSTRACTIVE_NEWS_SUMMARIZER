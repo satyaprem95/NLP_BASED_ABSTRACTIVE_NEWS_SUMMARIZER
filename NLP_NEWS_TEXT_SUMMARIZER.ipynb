{
  "metadata": {
    "kernelspec": {
      "language": "python",
      "display_name": "Python 3",
      "name": "python3"
    },
    "language_info": {
      "name": "python",
      "version": "3.11.11",
      "mimetype": "text/x-python",
      "codemirror_mode": {
        "name": "ipython",
        "version": 3
      },
      "pygments_lexer": "ipython3",
      "nbconvert_exporter": "python",
      "file_extension": ".py"
    },
    "kaggle": {
      "accelerator": "nvidiaTeslaT4",
      "dataSources": [
        {
          "sourceId": 2734496,
          "sourceType": "datasetVersion",
          "datasetId": 1654566
        }
      ],
      "dockerImageVersionId": 31011,
      "isInternetEnabled": true,
      "language": "python",
      "sourceType": "notebook",
      "isGpuEnabled": true
    },
    "colab": {
      "provenance": []
    }
  },
  "nbformat_minor": 0,
  "nbformat": 4,
  "cells": [
    {
      "cell_type": "code",
      "source": [
        "# Install the required Hugging Face libraries\n",
        "!pip install -q transformers datasets\n",
        "\n",
        "# Import pandas for handling and processing tabular data\n",
        "import pandas as pd\n",
        "\n",
        "# Import numpy for numerical operations (like working with arrays)\n",
        "import numpy as np\n",
        "\n",
        "# Import matplotlib for plotting graphs and visualizations\n",
        "import matplotlib.pyplot as plt\n",
        "\n",
        "# Import train_test_split to split your dataset into training and testing sets\n",
        "from sklearn.model_selection import train_test_split\n",
        "\n",
        "# Import the T5 tokenizer and model for text-to-text generation tasks (like summarization)\n",
        "from transformers import T5Tokenizer, T5ForConditionalGeneration, Trainer, TrainingArguments\n",
        "\n",
        "# Import Hugging Face Dataset class for handling datasets in a standardized way\n",
        "from datasets import Dataset\n",
        "\n",
        "# Import torch (PyTorch) which is the backend deep learning library used for training the model\n",
        "import torch\n"
      ],
      "metadata": {
        "_uuid": "8f2839f25d086af736a60e9eeb907d3b93b6e0e5",
        "_cell_guid": "b1076dfc-b9ad-4769-8c92-a6c4dae69d19",
        "trusted": true,
        "execution": {
          "iopub.status.busy": "2025-05-06T04:21:38.264725Z",
          "iopub.execute_input": "2025-05-06T04:21:38.265798Z",
          "iopub.status.idle": "2025-05-06T04:21:41.356288Z",
          "shell.execute_reply.started": "2025-05-06T04:21:38.265762Z",
          "shell.execute_reply": "2025-05-06T04:21:41.355256Z"
        },
        "id": "asdGwp5-_PF7"
      },
      "outputs": [],
      "execution_count": null
    },
    {
      "cell_type": "code",
      "source": [
        "df_train = pd.read_csv('/kaggle/input/newspaper-text-summarization-cnn-dailymail/cnn_dailymail/train.csv')\n",
        "df_test = pd.read_csv('/kaggle/input/newspaper-text-summarization-cnn-dailymail/cnn_dailymail/train.csv')\n",
        "\n",
        "# Previewing\n",
        "df_train.head()\n"
      ],
      "metadata": {
        "trusted": true,
        "execution": {
          "iopub.status.busy": "2025-05-06T04:21:46.348886Z",
          "iopub.execute_input": "2025-05-06T04:21:46.349211Z",
          "iopub.status.idle": "2025-05-06T04:22:13.924191Z",
          "shell.execute_reply.started": "2025-05-06T04:21:46.349186Z",
          "shell.execute_reply": "2025-05-06T04:22:13.923395Z"
        },
        "id": "KhFxheWO_PGI",
        "outputId": "13d7049f-d762-4a86-d813-7add25e5e2c2"
      },
      "outputs": [
        {
          "execution_count": 3,
          "output_type": "execute_result",
          "data": {
            "text/plain": "                                         id  \\\n0  0001d1afc246a7964130f43ae940af6bc6c57f01   \n1  0002095e55fcbd3a2f366d9bf92a95433dc305ef   \n2  00027e965c8264c35cc1bc55556db388da82b07f   \n3  0002c17436637c4fe1837c935c04de47adb18e9a   \n4  0003ad6ef0c37534f80b55b4235108024b407f0b   \n\n                                             article  \\\n0  By . Associated Press . PUBLISHED: . 14:11 EST...   \n1  (CNN) -- Ralph Mata was an internal affairs li...   \n2  A drunk driver who killed a young woman in a h...   \n3  (CNN) -- With a breezy sweep of his pen Presid...   \n4  Fleetwood are the only team still to have a 10...   \n\n                                          highlights  \n0  Bishop John Folda, of North Dakota, is taking ...  \n1  Criminal complaint: Cop used his role to help ...  \n2  Craig Eccleston-Todd, 27, had drunk at least t...  \n3  Nina dos Santos says Europe must be ready to a...  \n4  Fleetwood top of League One after 2-0 win at S...  ",
            "text/html": "<div>\n<style scoped>\n    .dataframe tbody tr th:only-of-type {\n        vertical-align: middle;\n    }\n\n    .dataframe tbody tr th {\n        vertical-align: top;\n    }\n\n    .dataframe thead th {\n        text-align: right;\n    }\n</style>\n<table border=\"1\" class=\"dataframe\">\n  <thead>\n    <tr style=\"text-align: right;\">\n      <th></th>\n      <th>id</th>\n      <th>article</th>\n      <th>highlights</th>\n    </tr>\n  </thead>\n  <tbody>\n    <tr>\n      <th>0</th>\n      <td>0001d1afc246a7964130f43ae940af6bc6c57f01</td>\n      <td>By . Associated Press . PUBLISHED: . 14:11 EST...</td>\n      <td>Bishop John Folda, of North Dakota, is taking ...</td>\n    </tr>\n    <tr>\n      <th>1</th>\n      <td>0002095e55fcbd3a2f366d9bf92a95433dc305ef</td>\n      <td>(CNN) -- Ralph Mata was an internal affairs li...</td>\n      <td>Criminal complaint: Cop used his role to help ...</td>\n    </tr>\n    <tr>\n      <th>2</th>\n      <td>00027e965c8264c35cc1bc55556db388da82b07f</td>\n      <td>A drunk driver who killed a young woman in a h...</td>\n      <td>Craig Eccleston-Todd, 27, had drunk at least t...</td>\n    </tr>\n    <tr>\n      <th>3</th>\n      <td>0002c17436637c4fe1837c935c04de47adb18e9a</td>\n      <td>(CNN) -- With a breezy sweep of his pen Presid...</td>\n      <td>Nina dos Santos says Europe must be ready to a...</td>\n    </tr>\n    <tr>\n      <th>4</th>\n      <td>0003ad6ef0c37534f80b55b4235108024b407f0b</td>\n      <td>Fleetwood are the only team still to have a 10...</td>\n      <td>Fleetwood top of League One after 2-0 win at S...</td>\n    </tr>\n  </tbody>\n</table>\n</div>"
          },
          "metadata": {}
        }
      ],
      "execution_count": null
    },
    {
      "cell_type": "code",
      "source": [
        "#Pre-processing:\n",
        "# Total missing values in the entire DataFrame\n",
        "total_missing = df_train.isnull().sum().sum()\n",
        "print(f\"Total missing values: {total_missing}\")\n",
        "\n",
        "# Missing values per column (optional breakdown)\n",
        "print(\"\\nMissing values per column:\")\n",
        "print(df_train.isnull().sum())\n"
      ],
      "metadata": {
        "trusted": true,
        "execution": {
          "iopub.status.busy": "2025-05-06T04:22:17.648898Z",
          "iopub.execute_input": "2025-05-06T04:22:17.649440Z",
          "iopub.status.idle": "2025-05-06T04:22:17.842320Z",
          "shell.execute_reply.started": "2025-05-06T04:22:17.649414Z",
          "shell.execute_reply": "2025-05-06T04:22:17.841683Z"
        },
        "id": "oUjeD02G_PGO",
        "outputId": "251c5d4e-1bf3-4be2-bb3c-042cbce9fc13"
      },
      "outputs": [
        {
          "name": "stdout",
          "text": "Total missing values: 0\n\nMissing values per column:\nid            0\narticle       0\nhighlights    0\ndtype: int64\n",
          "output_type": "stream"
        }
      ],
      "execution_count": null
    },
    {
      "cell_type": "code",
      "source": [
        "article_lengths = df_train['article'].apply(lambda x: len(x.split()))\n",
        "summary_lengths = df_train['highlights'].apply(lambda x: len(x.split()))\n",
        "plt.hist(article_lengths, bins=50, alpha=0.6, label='Article')\n",
        "plt.hist(summary_lengths, bins=50, alpha=0.6, label='Summary')\n",
        "plt.legend()\n",
        "plt.title(\"Token Length Distribution\")\n",
        "plt.show()"
      ],
      "metadata": {
        "trusted": true,
        "execution": {
          "iopub.status.busy": "2025-05-06T04:22:20.328789Z",
          "iopub.execute_input": "2025-05-06T04:22:20.329044Z",
          "iopub.status.idle": "2025-05-06T04:22:31.713389Z",
          "shell.execute_reply.started": "2025-05-06T04:22:20.329021Z",
          "shell.execute_reply": "2025-05-06T04:22:31.712699Z"
        },
        "id": "xY9_Nbd1_PGQ",
        "outputId": "71ef60ec-9b27-4d7c-b971-7b4940e2802a"
      },
      "outputs": [
        {
          "output_type": "display_data",
          "data": {
            "text/plain": "<Figure size 640x480 with 1 Axes>",
            "image/png": "[encoded data removed]"
          },
          "metadata": {}
        }
      ],
      "execution_count": null
    },
    {
      "cell_type": "code",
      "source": [
        "# Import CountVectorizer to convert text data into a bag-of-words (BoW) representation\n",
        "from sklearn.feature_extraction.text import CountVectorizer\n",
        "\n",
        "# Import matplotlib for plotting and seaborn for prettier statistical visualizations\n",
        "import matplotlib.pyplot as plt\n",
        "import seaborn as sns\n",
        "\n",
        "# Take a random sample of 1000 article texts from the training dataset to speed up processing\n",
        "text_sample = df_train['article'].sample(1000).tolist()\n",
        "\n",
        "# Initialize the CountVectorizer:\n",
        "# stop_words='english' removes common words like \"the\", \"and\", etc.\n",
        "# max_features=30 keeps only the top 30 most frequent words\n",
        "vectorizer = CountVectorizer(stop_words='english', max_features=30)\n",
        "\n",
        "# Fit the vectorizer on the sample and transform the text into a sparse matrix of word counts\n",
        "X = vectorizer.fit_transform(text_sample)\n",
        "\n",
        "# Convert the sparse matrix to an array and sum word counts across all documents (axis=0)\n",
        "word_counts = X.toarray().sum(axis=0)\n",
        "\n",
        "# Get the list of words corresponding to the columns of the BoW matrix\n",
        "words = vectorizer.get_feature_names_out()\n",
        "\n",
        "# Create a DataFrame to store each word and its total count\n",
        "bow_df = pd.DataFrame({'word': words, 'count': word_counts})\n",
        "\n",
        "# Sort the DataFrame so the most frequent words come first\n",
        "bow_df = bow_df.sort_values(by='count', ascending=False)\n",
        "\n",
        "# Create a bar plot showing the top 30 words by frequency\n",
        "plt.figure(figsize=(12,6))  # Set the size of the plot\n",
        "sns.barplot(x='count', y='word', data=bow_df, palette='viridis')  # Use seaborn's barplot\n",
        "plt.title('Top 30 Words in Bag-of-Words (Articles)')  # Title of the plot\n",
        "plt.xlabel('Count')  # Label for x-axis\n",
        "plt.ylabel('Word')   # Label for y-axis\n",
        "plt.tight_layout()   # Adjust layout to prevent overlap\n",
        "plt.show()           # Display the plot\n",
        "\n"
      ],
      "metadata": {
        "trusted": true,
        "execution": {
          "iopub.status.busy": "2025-05-06T04:22:42.418990Z",
          "iopub.execute_input": "2025-05-06T04:22:42.419789Z",
          "iopub.status.idle": "2025-05-06T04:22:43.217191Z",
          "shell.execute_reply.started": "2025-05-06T04:22:42.419762Z",
          "shell.execute_reply": "2025-05-06T04:22:43.216512Z"
        },
        "id": "a0JocTxh_PGS",
        "outputId": "24e703f4-1b86-466a-c75a-51a6d1e4d250"
      },
      "outputs": [
        {
          "output_type": "display_data",
          "data": {
            "text/plain": "<Figure size 1200x600 with 1 Axes>",
            "image/png": "[encoded data removed]"
          },
          "metadata": {}
        }
      ],
      "execution_count": null
    },
    {
      "cell_type": "code",
      "source": [
        "# Load the tokenizer for the 't5-small' model\n",
        "# The tokenizer is responsible for converting raw text into tokens that the model can understand\n",
        "tokenizer = T5Tokenizer.from_pretrained('t5-small')\n",
        "\n",
        "# Set the maximum length for input text (e.g., articles) to 512 tokens\n",
        "# This ensures that the model doesn't process overly long texts, which could lead to memory issues\n",
        "max_input_len = 512\n",
        "\n",
        "# Set the maximum length for target text (e.g., summaries) to 128 tokens\n",
        "# This helps control the output length of the generated summary\n",
        "max_target_len = 128\n"
      ],
      "metadata": {
        "trusted": true,
        "execution": {
          "iopub.status.busy": "2025-05-06T04:22:49.648902Z",
          "iopub.execute_input": "2025-05-06T04:22:49.649529Z",
          "iopub.status.idle": "2025-05-06T04:22:50.443580Z",
          "shell.execute_reply.started": "2025-05-06T04:22:49.649506Z",
          "shell.execute_reply": "2025-05-06T04:22:50.442784Z"
        },
        "id": "3eF7tWjp_PGU",
        "outputId": "38593998-8818-48e9-c522-37dbb48d13da"
      },
      "outputs": [
        {
          "name": "stderr",
          "text": "You are using the default legacy behaviour of the <class 'transformers.models.t5.tokenization_t5.T5Tokenizer'>. This is expected, and simply means that the `legacy` (previous) behavior will be used so nothing changes for you. If you want to use the new behaviour, set `legacy=False`. This should only be set if you understand what it means, and thoroughly read the reason why this was added as explained in https://github.com/huggingface/transformers/pull/24565\n",
          "output_type": "stream"
        }
      ],
      "execution_count": null
    },
    {
      "cell_type": "code",
      "source": [
        "# Define a function to tokenize a batch of examples from the dataset\n",
        "def tokenize(batch):\n",
        "    # Prefix each article with \"summarize: \" as required by T5 format\n",
        "    # T5 uses task-specific prefixes to guide the model on what task to perform\n",
        "    inputs = [\"summarize: \" + doc for doc in batch['article']]\n",
        "\n",
        "    # Tokenize the input texts (articles)\n",
        "    #  max_length ensures all sequences are no longer than 512 tokens\n",
        "    #  truncation shortens sequences longer than max_length\n",
        "    #  padding=\"max_length\" adds padding so all sequences are of equal length\n",
        "    model_inputs = tokenizer(inputs, max_length=max_input_len, truncation=True, padding=\"max_length\")\n",
        "\n",
        "    # Tokenize the target texts (summaries/highlights)\n",
        "    # This is done inside a special block to ensure the tokenizer knows we're encoding targets\n",
        "    with tokenizer.as_target_tokenizer():\n",
        "        labels = tokenizer(batch['highlights'], max_length=max_target_len, truncation=True, padding=\"max_length\")\n",
        "\n",
        "    # Add the tokenized target sequences (labels) to the model inputs\n",
        "    model_inputs['labels'] = labels['input_ids']\n",
        "\n",
        "    # Return the complete dictionary containing tokenized inputs and labels\n",
        "    return model_inputs\n"
      ],
      "metadata": {
        "trusted": true,
        "execution": {
          "iopub.status.busy": "2025-05-06T04:22:54.329068Z",
          "iopub.execute_input": "2025-05-06T04:22:54.329781Z",
          "iopub.status.idle": "2025-05-06T04:22:54.334030Z",
          "shell.execute_reply.started": "2025-05-06T04:22:54.329737Z",
          "shell.execute_reply": "2025-05-06T04:22:54.333505Z"
        },
        "id": "unYYweiJ_PGZ"
      },
      "outputs": [],
      "execution_count": null
    },
    {
      "cell_type": "code",
      "source": [
        "print(f\"Number of training samples: {len(df_train)}\")\n",
        "print(f\"Number of testing samples: {len(df_test)}\")\n"
      ],
      "metadata": {
        "trusted": true,
        "execution": {
          "iopub.status.busy": "2025-05-06T04:23:01.554151Z",
          "iopub.execute_input": "2025-05-06T04:23:01.554428Z",
          "iopub.status.idle": "2025-05-06T04:23:01.558752Z",
          "shell.execute_reply.started": "2025-05-06T04:23:01.554408Z",
          "shell.execute_reply": "2025-05-06T04:23:01.558025Z"
        },
        "id": "hck9vo5o_PGb",
        "outputId": "e3595015-2492-44de-f46f-a96a88fdc50a"
      },
      "outputs": [
        {
          "name": "stdout",
          "text": "Number of training samples: 287113\nNumber of testing samples: 287113\n",
          "output_type": "stream"
        }
      ],
      "execution_count": null
    },
    {
      "cell_type": "code",
      "source": [
        "# Converting to HuggingFace Dataset\n",
        "dataset_train = Dataset.from_pandas(df_train.sample(7000))\n",
        "dataset_test = Dataset.from_pandas(df_test.sample(2000))\n",
        "\n",
        "tokenized_train = dataset_train.map(tokenize, batched=True, remove_columns=['article', 'highlights'])\n",
        "tokenized_test = dataset_test.map(tokenize, batched=True, remove_columns=['article', 'highlights'])"
      ],
      "metadata": {
        "trusted": true,
        "execution": {
          "iopub.status.busy": "2025-05-06T04:23:05.548950Z",
          "iopub.execute_input": "2025-05-06T04:23:05.549532Z",
          "iopub.status.idle": "2025-05-06T04:23:47.414500Z",
          "shell.execute_reply.started": "2025-05-06T04:23:05.549507Z",
          "shell.execute_reply": "2025-05-06T04:23:47.413897Z"
        },
        "colab": {
          "referenced_widgets": [
            "64de3d48d49e4165a1244f871280da70",
            "24e4441398b84b2fa2882c64484b9e90"
          ]
        },
        "id": "5ncdqNsW_PGc",
        "outputId": "7a9da82e-336b-4d7e-ca8b-34b8ff0d23b8"
      },
      "outputs": [
        {
          "output_type": "display_data",
          "data": {
            "text/plain": "Map:   0%|          | 0/7000 [00:00<?, ? examples/s]",
            "application/vnd.jupyter.widget-view+json": {
              "version_major": 2,
              "version_minor": 0,
              "model_id": "64de3d48d49e4165a1244f871280da70"
            }
          },
          "metadata": {}
        },
        {
          "name": "stderr",
          "text": "/usr/local/lib/python3.11/dist-packages/transformers/tokenization_utils_base.py:3980: UserWarning: `as_target_tokenizer` is deprecated and will be removed in v5 of Transformers. You can tokenize your labels by using the argument `text_target` of the regular `__call__` method (either in the same call as your input texts if you use the same keyword arguments, or in a separate call.\n  warnings.warn(\n",
          "output_type": "stream"
        },
        {
          "output_type": "display_data",
          "data": {
            "text/plain": "Map:   0%|          | 0/2000 [00:00<?, ? examples/s]",
            "application/vnd.jupyter.widget-view+json": {
              "version_major": 2,
              "version_minor": 0,
              "model_id": "24e4441398b84b2fa2882c64484b9e90"
            }
          },
          "metadata": {}
        }
      ],
      "execution_count": null
    },
    {
      "cell_type": "code",
      "source": [
        "# Load the pre-trained T5-small model for conditional text generation\n",
        "# This model is capable of performing tasks like summarization, translation, and question answering\n",
        "model = T5ForConditionalGeneration.from_pretrained('t5-small')\n"
      ],
      "metadata": {
        "trusted": true,
        "execution": {
          "iopub.status.busy": "2025-05-06T04:23:54.013657Z",
          "iopub.execute_input": "2025-05-06T04:23:54.014166Z",
          "iopub.status.idle": "2025-05-06T04:23:54.250349Z",
          "shell.execute_reply.started": "2025-05-06T04:23:54.014141Z",
          "shell.execute_reply": "2025-05-06T04:23:54.249600Z"
        },
        "id": "n861uGcJ_PGd"
      },
      "outputs": [],
      "execution_count": null
    },
    {
      "cell_type": "code",
      "source": [
        "pip install --upgrade transformers\n"
      ],
      "metadata": {
        "trusted": true,
        "id": "fe9UHmsA_PGe"
      },
      "outputs": [],
      "execution_count": null
    },
    {
      "cell_type": "code",
      "source": [
        "# Import PyTorch for hardware checks and tensor computations\n",
        "import torch\n",
        "\n",
        "# Check if CUDA (GPU acceleration) is available\n",
        "print(f\"CUDA available: {torch.cuda.is_available()}\")\n",
        "\n",
        "# Print how many GPUs are available (usually 1 in Kaggle/Colab, or more if on a workstation)\n",
        "print(f\"Number of GPUs: {torch.cuda.device_count()}\")\n",
        "\n",
        "# Set the device to GPU if available, otherwise fall back to CPU\n",
        "device = torch.device(\"cuda\" if torch.cuda.is_available() else \"cpu\")\n",
        "print(f\"Using device: {device}\")\n",
        "\n",
        "# Load the T5-small model again and move it to the appropriate device (GPU/CPU)\n",
        "# Note: Ensure 'model_name' is defined earlier as 't5-small'\n",
        "model = T5ForConditionalGeneration.from_pretrained(model_name).to(device)\n",
        "\n",
        "# Define training arguments for the Hugging Face Trainer API\n",
        "training_args = TrainingArguments(\n",
        "    output_dir=\"t5_summarizer\",            # Folder to save model checkpoints\n",
        "    num_train_epochs=2,                    # Number of passes over the training data\n",
        "    per_device_train_batch_size=4,         # Training batch size per GPU/CPU\n",
        "    per_device_eval_batch_size=4,          # Evaluation batch size per GPU/CPU\n",
        "    warmup_steps=100,                      # Number of warm-up steps for learning rate scheduler\n",
        "    weight_decay=0.01,                     # Apply weight decay (regularization) to reduce overfitting\n",
        "    logging_dir=\"logs\",                    # Where to store logs\n",
        "    logging_steps=50,                      # Log training info every 50 steps\n",
        "    save_total_limit=2,                    # Keep only the 2 most recent model checkpoints\n",
        "    load_best_model_at_end=True,           # Load the best checkpoint at the end based on evaluation loss\n",
        "    eval_strategy=\"epoch\",                 # Run evaluation after every epoch\n",
        "    save_strategy=\"epoch\",                 # Save model after every epoch\n",
        "    metric_for_best_model=\"loss\",          # Choose the best model based on loss\n",
        "    no_cuda=False,                         # Allow CUDA usage if available\n",
        "    fp16=True,                             # Enable mixed precision training for faster performance and less memory usage\n",
        ")\n"
      ],
      "metadata": {
        "trusted": true,
        "execution": {
          "iopub.status.busy": "2025-05-06T05:22:52.748806Z",
          "iopub.execute_input": "2025-05-06T05:22:52.749405Z",
          "iopub.status.idle": "2025-05-06T05:22:53.149068Z",
          "shell.execute_reply.started": "2025-05-06T05:22:52.749381Z",
          "shell.execute_reply": "2025-05-06T05:22:53.148512Z"
        },
        "id": "PatO0AHH_PGe",
        "outputId": "66ccc3f9-81f3-41d9-e821-84fcca4f836d"
      },
      "outputs": [
        {
          "name": "stdout",
          "text": "CUDA available: True\nNumber of GPUs: 2\nUsing device: cuda\n",
          "output_type": "stream"
        }
      ],
      "execution_count": null
    },
    {
      "cell_type": "code",
      "source": [
        "import os\n",
        "os.environ[\"WANDB_DISABLED\"] = \"true\"  # Set before Trainer is created\n",
        "\n",
        "from transformers import Trainer, TrainingArguments, T5ForConditionalGeneration, T5Tokenizer\n",
        "import torch\n",
        "from tqdm.auto import tqdm  # Import tqdm\n",
        "\n",
        "# Initialize the model and tokenizer\n",
        "model_name = \"t5-small\"\n",
        "tokenizer = T5Tokenizer.from_pretrained(model_name)\n",
        "\n",
        "# Explicitly move model to GPU\n",
        "device = torch.device(\"cuda\")\n",
        "model = T5ForConditionalGeneration.from_pretrained(model_name).to(device)\n",
        "\n",
        "# Define the training arguments with GPU optimizations and explicit tqdm settings\n",
        "training_args = TrainingArguments(\n",
        "    output_dir=\"t5_summarizer\",\n",
        "    num_train_epochs=6,\n",
        "    per_device_train_batch_size=4,\n",
        "    per_device_eval_batch_size=8,\n",
        "    warmup_steps=100,\n",
        "    weight_decay=0.01,\n",
        "    logging_dir=\"logs\",\n",
        "    logging_steps=10,\n",
        "    save_total_limit=6,\n",
        "    load_best_model_at_end=True,\n",
        "    eval_strategy=\"epoch\",\n",
        "    save_strategy=\"epoch\",\n",
        "    metric_for_best_model=\"loss\",\n",
        "    fp16=True,\n",
        "    dataloader_num_workers=4,\n",
        "    dataloader_pin_memory=True,\n",
        "    disable_tqdm=False,  # Explicitly enable tqdm progress bars\n",
        ")\n",
        "\n",
        "# Initialize the Trainer\n",
        "trainer = Trainer(\n",
        "    model=model,\n",
        "    args=training_args,\n",
        "    train_dataset=tokenized_train,\n",
        "    eval_dataset=tokenized_test,\n",
        ")\n",
        "\n",
        "# Print status before training\n",
        "print(\"Starting training...\")\n",
        "print(f\"Model device: {next(model.parameters()).device}\")\n",
        "print(f\"Training dataset size: {len(tokenized_train)}\")\n",
        "print(f\"Evaluation dataset size: {len(tokenized_test)}\")\n",
        "\n",
        "# To emphasize that training is starting (visual cue before tqdm appears)\n",
        "with tqdm(total=1, desc=\"Initializing training\") as pbar:\n",
        "    pbar.update(1)\n"
      ],
      "metadata": {
        "trusted": true,
        "execution": {
          "iopub.status.busy": "2025-05-06T05:55:19.649249Z",
          "iopub.execute_input": "2025-05-06T05:55:19.649988Z",
          "iopub.status.idle": "2025-05-06T05:55:20.363247Z",
          "shell.execute_reply.started": "2025-05-06T05:55:19.649958Z",
          "shell.execute_reply": "2025-05-06T05:55:20.362525Z"
        },
        "colab": {
          "referenced_widgets": [
            "8a42c60046a54bcfa6add08d64308bf0"
          ]
        },
        "id": "-NR9Wop7_PGf",
        "outputId": "f9821253-73a3-4bea-d7b1-31852af37948"
      },
      "outputs": [
        {
          "name": "stderr",
          "text": "Using the `WANDB_DISABLED` environment variable is deprecated and will be removed in v5. Use the --report_to flag to control the integrations used for logging result (for instance --report_to none).\n",
          "output_type": "stream"
        },
        {
          "name": "stdout",
          "text": "Starting training...\nModel device: cuda:0\nTraining dataset size: 7000\nEvaluation dataset size: 2000\n",
          "output_type": "stream"
        },
        {
          "output_type": "display_data",
          "data": {
            "text/plain": "Initializing training:   0%|          | 0/1 [00:00<?, ?it/s]",
            "application/vnd.jupyter.widget-view+json": {
              "version_major": 2,
              "version_minor": 0,
              "model_id": "8a42c60046a54bcfa6add08d64308bf0"
            }
          },
          "metadata": {}
        }
      ],
      "execution_count": null
    },
    {
      "cell_type": "code",
      "source": [
        "print(\"Training...\")\n",
        "trainer.train()\n",
        "print(\"Done.\")\n"
      ],
      "metadata": {
        "trusted": true,
        "execution": {
          "iopub.status.busy": "2025-05-06T05:55:23.008829Z",
          "iopub.execute_input": "2025-05-06T05:55:23.009418Z",
          "iopub.status.idle": "2025-05-06T06:20:07.611281Z",
          "shell.execute_reply.started": "2025-05-06T05:55:23.009393Z",
          "shell.execute_reply": "2025-05-06T06:20:07.610642Z"
        },
        "id": "L4Fm4ng3_PGg",
        "outputId": "28b4ba6c-b46c-4ddd-d67a-5425c2bbbd91"
      },
      "outputs": [
        {
          "name": "stdout",
          "text": "Training...\n",
          "output_type": "stream"
        },
        {
          "name": "stderr",
          "text": "/usr/local/lib/python3.11/dist-packages/torch/nn/parallel/_functions.py:71: UserWarning: Was asked to gather along dimension 0, but all input tensors were scalars; will instead unsqueeze and return a vector.\n  warnings.warn(\n",
          "output_type": "stream"
        },
        {
          "output_type": "display_data",
          "data": {
            "text/plain": "<IPython.core.display.HTML object>",
            "text/html": "\n    <div>\n      \n      <progress value='5250' max='5250' style='width:300px; height:20px; vertical-align: middle;'></progress>\n      [5250/5250 24:43, Epoch 6/6]\n    </div>\n    <table border=\"1\" class=\"dataframe\">\n  <thead>\n <tr style=\"text-align: left;\">\n      <th>Epoch</th>\n      <th>Training Loss</th>\n      <th>Validation Loss</th>\n    </tr>\n  </thead>\n  <tbody>\n    <tr>\n      <td>1</td>\n      <td>1.203300</td>\n      <td>1.078596</td>\n    </tr>\n    <tr>\n      <td>2</td>\n      <td>1.198700</td>\n      <td>1.070782</td>\n    </tr>\n    <tr>\n      <td>3</td>\n      <td>1.075200</td>\n      <td>1.069814</td>\n    </tr>\n    <tr>\n      <td>4</td>\n      <td>1.236300</td>\n      <td>1.066526</td>\n    </tr>\n    <tr>\n      <td>5</td>\n      <td>1.173100</td>\n      <td>1.066601</td>\n    </tr>\n    <tr>\n      <td>6</td>\n      <td>1.094700</td>\n      <td>1.066408</td>\n    </tr>\n  </tbody>\n</table><p>"
          },
          "metadata": {}
        },
        {
          "name": "stderr",
          "text": "/usr/local/lib/python3.11/dist-packages/torch/nn/parallel/_functions.py:71: UserWarning: Was asked to gather along dimension 0, but all input tensors were scalars; will instead unsqueeze and return a vector.\n  warnings.warn(\n/usr/local/lib/python3.11/dist-packages/torch/nn/parallel/_functions.py:71: UserWarning: Was asked to gather along dimension 0, but all input tensors were scalars; will instead unsqueeze and return a vector.\n  warnings.warn(\n/usr/local/lib/python3.11/dist-packages/torch/nn/parallel/_functions.py:71: UserWarning: Was asked to gather along dimension 0, but all input tensors were scalars; will instead unsqueeze and return a vector.\n  warnings.warn(\n/usr/local/lib/python3.11/dist-packages/torch/nn/parallel/_functions.py:71: UserWarning: Was asked to gather along dimension 0, but all input tensors were scalars; will instead unsqueeze and return a vector.\n  warnings.warn(\n/usr/local/lib/python3.11/dist-packages/torch/nn/parallel/_functions.py:71: UserWarning: Was asked to gather along dimension 0, but all input tensors were scalars; will instead unsqueeze and return a vector.\n  warnings.warn(\nThere were missing keys in the checkpoint model loaded: ['encoder.embed_tokens.weight', 'decoder.embed_tokens.weight', 'lm_head.weight'].\n",
          "output_type": "stream"
        },
        {
          "name": "stdout",
          "text": "Done.\n",
          "output_type": "stream"
        }
      ],
      "execution_count": null
    },
    {
      "cell_type": "code",
      "source": [
        "import matplotlib.pyplot as plt\n",
        "\n",
        "# Extract loss values\n",
        "train_loss = [log['loss'] for log in trainer.state.log_history if 'loss' in log]\n",
        "val_loss = [log['eval_loss'] for log in trainer.state.log_history if 'eval_loss' in log]\n",
        "\n",
        "# Epochs (could mismatch if you logged more frequently)\n",
        "epochs = range(1, len(val_loss) + 1)\n",
        "\n",
        "# Plot\n",
        "plt.figure(figsize=(8, 5))\n",
        "plt.plot(epochs, train_loss[:len(val_loss)], label='Training Loss')\n",
        "plt.plot(epochs, val_loss, label='Validation Loss')\n",
        "plt.xlabel(\"Epoch\")\n",
        "plt.ylabel(\"Loss\")\n",
        "plt.title(\"Training vs Validation Loss\")\n",
        "plt.legend()\n",
        "plt.grid(True)\n",
        "plt.show()\n"
      ],
      "metadata": {
        "trusted": true,
        "execution": {
          "iopub.status.busy": "2025-05-06T09:48:00.974876Z",
          "iopub.execute_input": "2025-05-06T09:48:00.975246Z",
          "iopub.status.idle": "2025-05-06T09:48:01.149879Z",
          "shell.execute_reply.started": "2025-05-06T09:48:00.975222Z",
          "shell.execute_reply": "2025-05-06T09:48:01.149190Z"
        },
        "id": "TkYYRV7b_PGh",
        "outputId": "4d68b4ce-bd69-41c0-d5b2-c726f4bce095"
      },
      "outputs": [
        {
          "output_type": "display_data",
          "data": {
            "text/plain": "<Figure size 800x500 with 1 Axes>",
            "image/png": "[encoded data removed]"
          },
          "metadata": {}
        }
      ],
      "execution_count": null
    },
    {
      "cell_type": "code",
      "source": [
        "# Only test on the first 500 examples (adjust as needed)\n",
        "small_test_dataset = test_dataset.select(range(500))\n",
        "predicted_dataset = small_test_dataset.map(generate_summary, batched=True, batch_size=8)\n"
      ],
      "metadata": {
        "trusted": true,
        "execution": {
          "iopub.status.busy": "2025-05-06T09:51:20.533907Z",
          "iopub.execute_input": "2025-05-06T09:51:20.534476Z",
          "iopub.status.idle": "2025-05-06T09:53:42.757696Z",
          "shell.execute_reply.started": "2025-05-06T09:51:20.534454Z",
          "shell.execute_reply": "2025-05-06T09:53:42.756968Z"
        },
        "colab": {
          "referenced_widgets": [
            "88605ae7c6394b1387f38909a37c69a3"
          ]
        },
        "id": "yjwvgd5v_PGh",
        "outputId": "df1c1eeb-7b95-42eb-acc8-e88ca4f23026"
      },
      "outputs": [
        {
          "output_type": "display_data",
          "data": {
            "text/plain": "Map:   0%|          | 0/500 [00:00<?, ? examples/s]",
            "application/vnd.jupyter.widget-view+json": {
              "version_major": 2,
              "version_minor": 0,
              "model_id": "88605ae7c6394b1387f38909a37c69a3"
            }
          },
          "metadata": {}
        }
      ],
      "execution_count": null
    },
    {
      "cell_type": "code",
      "source": [
        "# Compute ROUGE scores\n",
        "results = rouge.compute(\n",
        "    predictions=predicted_dataset[\"predicted_summary\"],\n",
        "    references=predicted_dataset[\"highlights\"]  # Or \"summary\", depending on your column name\n",
        ")\n",
        "\n",
        "# Display scores\n",
        "for key in results:\n",
        "    print(f\"{key}: {results[key]:.4f}\")\n"
      ],
      "metadata": {
        "trusted": true,
        "execution": {
          "iopub.status.busy": "2025-05-06T09:54:30.237690Z",
          "iopub.execute_input": "2025-05-06T09:54:30.238305Z",
          "iopub.status.idle": "2025-05-06T09:54:31.558712Z",
          "shell.execute_reply.started": "2025-05-06T09:54:30.238279Z",
          "shell.execute_reply": "2025-05-06T09:54:31.557839Z"
        },
        "id": "R_3Rxzrx_PGi",
        "outputId": "5f634e3d-04f0-4b64-bd61-de5c2781b290"
      },
      "outputs": [
        {
          "name": "stdout",
          "text": "rouge1: 0.3604\nrouge2: 0.1588\nrougeL: 0.2500\nrougeLsum: 0.3121\n",
          "output_type": "stream"
        }
      ],
      "execution_count": null
    },
    {
      "cell_type": "code",
      "source": [
        "for i in range(5):\n",
        "    print(\"ARTICLE:\\n\", predicted_dataset[i][\"article\"])\n",
        "    print(\"REFERENCE SUMMARY:\\n\", predicted_dataset[i][\"highlights\"])  # or \"summary\"\n",
        "    print(\"PREDICTED SUMMARY:\\n\", predicted_dataset[i][\"predicted_summary\"])\n",
        "    print(\"-\" * 80)\n"
      ],
      "metadata": {
        "trusted": true,
        "execution": {
          "iopub.status.busy": "2025-05-06T09:54:42.558265Z",
          "iopub.execute_input": "2025-05-06T09:54:42.558755Z",
          "iopub.status.idle": "2025-05-06T09:54:42.565244Z",
          "shell.execute_reply.started": "2025-05-06T09:54:42.558731Z",
          "shell.execute_reply": "2025-05-06T09:54:42.564504Z"
        },
        "id": "SwHssKjb_PGi",
        "outputId": "5c584474-d30e-4e10-8d92-5a88ee7e7577"
      },
      "outputs": [
        {
          "name": "stdout",
          "text": "ARTICLE:\n By . Associated Press . PUBLISHED: . 14:11 EST, 25 October 2013 . | . UPDATED: . 15:36 EST, 25 October 2013 . The bishop of the Fargo Catholic Diocese in North Dakota has exposed potentially hundreds of church members in Fargo, Grand Forks and Jamestown to the hepatitis A virus in late September and early October. The state Health Department has issued an advisory of exposure for anyone who attended five churches and took communion. Bishop John Folda (pictured) of the Fargo Catholic Diocese in North Dakota has exposed potentially hundreds of church members in Fargo, Grand Forks and Jamestown to the hepatitis A . State Immunization Program Manager Molly Howell says the risk is low, but officials feel it's important to alert people to the possible exposure. The diocese announced on Monday that Bishop John Folda is taking time off after being diagnosed with hepatitis A. The diocese says he contracted the infection through contaminated food while attending a conference for newly ordained bishops in Italy last month. Symptoms of hepatitis A include fever, tiredness, loss of appetite, nausea and abdominal discomfort. Fargo Catholic Diocese in North Dakota (pictured) is where the bishop is located .\nREFERENCE SUMMARY:\n Bishop John Folda, of North Dakota, is taking time off after being diagnosed .\nHe contracted the infection through contaminated food in Italy .\nChurch members in Fargo, Grand Forks and Jamestown could have been exposed .\nPREDICTED SUMMARY:\n The bishop of the Fargo Catholic Diocese in North Dakota has exposed potentially hundreds of church members in Fargo, Grand Forks and Jamestown to the hepatitis A virus in late September and early October. The state Health Department has issued an advisory of exposure for anyone who attended five churches and took communion.\n--------------------------------------------------------------------------------\nARTICLE:\n (CNN) -- Ralph Mata was an internal affairs lieutenant for the Miami-Dade Police Department, working in the division that investigates allegations of wrongdoing by cops. Outside the office, authorities allege that the 45-year-old longtime officer worked with a drug trafficking organization to help plan a murder plot and get guns. A criminal complaint unsealed in U.S. District Court in New Jersey Tuesday accuses Mata, also known as \"The Milk Man,\" of using his role as a police officer to help the drug trafficking organization in exchange for money and gifts, including a Rolex watch. In one instance, the complaint alleges, Mata arranged to pay two assassins to kill rival drug dealers. The killers would pose as cops, pulling over their targets before shooting them, according to the complaint. \"Ultimately, the (organization) decided not to move forward with the murder plot, but Mata still received a payment for setting up the meetings,\" federal prosecutors said in a statement. The complaint also alleges that Mata used his police badge to purchase weapons for drug traffickers. Mata, according to the complaint, then used contacts at the airport to transport the weapons in his carry-on luggage on trips from Miami to the Dominican Republic. Court documents released by investigators do not specify the name of the drug trafficking organization with which Mata allegedly conspired but says the organization has been importing narcotics from places such as Ecuador and the Dominican Republic by hiding them \"inside shipping containers containing pallets of produce, including bananas.\" The organization \"has been distributing narcotics in New Jersey and elsewhere,\" the complaint says. Authorities arrested Mata on Tuesday in Miami Gardens, Florida. It was not immediately clear whether Mata has an attorney, and police officials could not be immediately reached for comment. Mata has worked for the Miami-Dade Police Department since 1992, including directing investigations in Miami Gardens and working as a lieutenant in the K-9 unit at Miami International Airport, according to the complaint. Since March 2010, he had been working in the internal affairs division. Mata faces charges of aiding and abetting a conspiracy to distribute cocaine, conspiring to distribute cocaine and engaging in monetary transactions in property derived from specified unlawful activity. He is scheduled to appear in federal court in Florida on Wednesday. If convicted, Mata could face life in prison. CNN's Suzanne Presto contributed to this report.\nREFERENCE SUMMARY:\n Criminal complaint: Cop used his role to help cocaine traffickers .\nRalph Mata, an internal affairs lieutenant, allegedly helped group get guns .\nHe also arranged to pay two assassins in a murder plot, a complaint alleges .\nPREDICTED SUMMARY:\n \"The Milk Man\" Ralph Mata was an internal affairs lieutenant for the Miami-Dade Police Department. Mata faces charges of aiding and abetting a conspiracy to distribute cocaine, conspiring to distribute cocaine and engaging in monetary transactions. Mata faces charges of aiding and abetting a conspiracy to distribute cocaine, conspiring to distribute cocaine.\n--------------------------------------------------------------------------------\nARTICLE:\n A drunk driver who killed a young woman in a head-on crash while checking his mobile phone has been jailed for six years. Craig Eccleston-Todd, 27, was driving home from a night at a pub when he received a text message. As he was reading or replying to it, he veered across the road while driving round a bend and smashed into Rachel Titley’s car coming the other way. Craig Eccleston-Todd, 27 (left) was using his mobile phone when he crashed head-on into the car being driven by Rachel Titley, 28 (right). She died later from her injuries . The head-on crash took place in October 2013. Mr Eccleston-Todd's car was barely recognisable (pictured) Police said Eccleston-Todd had drunk at least three or four pints of beer before getting behind the wheel. He was found guilty of causing death by dangerous driving at Portsmouth Crown Court yesterday. Miss Titley, a 28-year-old solicitor’s clerk from Cowes, Isle of Wight, had also spent the evening with friends at a pub but had not drunk any alcohol, police said. She was driving responsibly and there was ‘nothing she could have done to avoid the collision’, they added. Lindsay Pennell, prosecuting, said: ‘Craig Eccleston-Todd’s driving resulted in the tragic death of a young woman, Rachel Titley, a death that could have been avoided. ‘Mr Eccleston-Todd took the decision to pick up his mobile phone whilst driving and, either reading or replying to this text message, was so distracted that he failed to negotiate a left-hand bend, crossing the central white line into the path of Miss Titley’s oncoming car. Miss Titley was pulled the wreckage of her Daihatsu Cuore but died later from her injuries in hospital . ‘Miss Titley [had] a bright future ahead of her. She was also returning home having spent an enjoyable evening with friends and was driving responsibly. ‘She had arranged to contact her friends when she got home to confirm that she had arrived safely. Her friends sadly never heard from her after they parted company. ‘Miss Titley’s death in these circumstances reiterates the danger of using a hand-held mobile phone whilst driving.’ Police were unable to take breath or blood tests from Eccleston-Todd immediately, but in tests several hours after the accident he was only marginally under the drink-drive limit. The judge agreed with police that he would have been over the limit at the time his red Citroen hit Miss Titley’s blue Daihatsu Cuore on a road near Yarmouth, Isle of Wight, on October 11, 2013. His phone records showed he was also texting around the time of the crash. PC Mark Furse, from Hampshire constabulary’s serious collision investigation unit, said: 'Our thoughts are with Rachel's family at this time. She had been out with friends at a pub in Shalfleet that evening, but had not had any alcohol. 'Our investigation showed that there was nothing she could have done to avoid the collision and sadly it cost her her life. 'Mr Eccleston-Todd had left work in Yarmouth and met with friends at a pub where he drank at least three to four pints of lager. He hadn't long left the pub to return home when the collision occurred at around 9.30pm. 'We weren't able to take breath or blood tests from him immediately and although blood taken several hours after the collision showed he was marginally under the limit, we maintain he would have been over the limit at the time of the collision and in summing up today, the judge agreed. 'The analysis of his phone records showed that he was texting on his phone around the time of the collision so it's highly likely this would also have contributed to his dangerous driving and loss of control.' Eccleston-Todd was found guilty of causing death by dangerous driving following a trial at Portsmouth Crown Court (pictured) He added: 'Mr Eccleston-Todd will now spend six years behind bars, but Rachel's family have lost her forever. 'I hope this will make people think twice before drinking any alcohol and getting behind the wheel, or using a phone once they're on the road. 'The dangers of drink driving and driving whilst using a mobile phone are obvious. Those who continue to do so risk spending a substantial time in prison. This case highlights just how tragic the consequences of committing these offences can be.' ‘Mr Eccleston-Todd will now spend six years behind bars, but Rachel’s family have lost her for ever. I hope this will make people think twice before drinking any alcohol and getting behind the wheel, or using a phone once they’re on the road. This case highlights just how tragic the consequences of committing these offences can be.’ Eccleston-Todd, of Newport, Isle of Wight, was also disqualified from driving for eight years after which he will have to complete an extended re-test.\nREFERENCE SUMMARY:\n Craig Eccleston-Todd, 27, had drunk at least three pints before driving car .\nWas using phone when he veered across road in Yarmouth, Isle of Wight .\nCrashed head-on into 28-year-old Rachel Titley's car, who died in hospital .\nPolice say he would have been over legal drink-drive limit at time of crash .\nHe was found guilty at Portsmouth Crown Court of causing death by dangerous driving .\nPREDICTED SUMMARY:\n Craig Eccleston-Todd, 27, was driving home from a night at a pub when he received a text message. As he was reading or replying to it, he veered across the road while driving round a bend. He smashed into Rachel Titley’s car coming the other way. She died later from her injuries in hospital. Eccleston-Todd was jailed for six years for causing death by dangerous driving.\n--------------------------------------------------------------------------------\nARTICLE:\n (CNN) -- With a breezy sweep of his pen President Vladimir Putin wrote a new chapter into Crimea's turbulent history, committing the region to a future returned to Russian domain. Sixty years prior, Ukraine's breakaway peninsula was signed away just as swiftly by Soviet leader Nikita Khrushchev. But dealing with such a blatant land grab on its eastern flank won't be anywhere near as quick and easy for Europe's 28-member union. Because, unlike Crimea's rushed referendum, everyone has a say. After initially slapping visa restrictions and asset freezes on a limited number of little known politicians and military men, Europe is facing urgent calls to widen the scope of its measures to target the Russian business community in particular. The logic of this is that those who run Russia and own it are essentially two sides of the coin. Alexei Navalny, one-time Moscow mayoral contender now under house arrest for opposing the current regime, called for Europe's leaders to ban everyone -- from Vladimir Putin's personal banker to Chelsea Football Club owner Roman Abramovich from keeping their money and loved ones abroad. Asset freezes and visa restrictions are especially palatable options for the EU because they can be rolled out on a discretionary basis, without requiring cumbersome legal procedures and recourse. In fact Russia cancels visas for people it doesn't like all the time. Just look at Hermitage Capital founder Bill Browder who lost both his right of entry and Moscow-based money in 2005 and dare not go back. Russia also banned the adoption of its orphans by Americans in retaliation for the US's implementation of an anti-corruption law named after Sergei Magnitsky, Browder's lawyer who died after a year in a Moscow detention center, apparently beaten to death. Yet in playing the 'money talks' card, Europe must be ready for the consequences of such action. Because money also walks. As such EU leaders must be ready to accept sanctions are a two-way street and will hurt both sides. Targeting Russia's peripatetic business community would be one way of sapping their tenuous support for President Putin. And such a strategy might also turn out to have a silver lining: awarding EU countries a chance to finally deal with some of the more unpleasant sides of their patronage, including money laundering and corruption, which have inflated prize assets like London property and Picasso paintings for years. Where Europe should hold fire though is trade. Two decades of post-Soviet rapprochement and almost $500 billion worth of commerce is a lot to put at stake. It's true that any trade war would hurt Russia far harder than it would the EU - not least because 15% of the former's GDP comes from exports to the bloc. But Europe - with its hefty reliance on Russian gas - would have a hard time keeping its factories going and citizens warm without power from the east. And while Putin flexes his political muscle, open trade channels keep the dialogue going giving all sides a chance to change the subject and talk less tensely. No one can afford to cut off that lifeline, especially now with Europe's economy on the rebound and Russia's one on the wane.\nREFERENCE SUMMARY:\n Nina dos Santos says Europe must be ready to accept sanctions will hurt both sides .\nTargeting Russia's business community would be one way of sapping their support for President Putin, she says .\nBut she says Europe would have a hard time keeping its factories going without power from the east .\nPREDICTED SUMMARY:\n Vladimir Putin wrote a new chapter into Crimea's turbulent history. But Europe is facing urgent calls to widen the scope of its measures to target the Russian business community in particular. Vladimir Putin wrote a new chapter into Crimea's turbulent history, committing the region to a future returned to Russian domain. The logic of this is that those who run Russia and own it are essentially two sides of the coin, he says.\n--------------------------------------------------------------------------------\nARTICLE:\n Fleetwood are the only team still to have a 100% record in Sky Bet League One as a 2-0 win over Scunthorpe sent Graham Alexander’s men top of the table. The Cod Army are playing in the third tier for the first time in their history after six promotions in nine years and their remarkable ascent shows no sign of slowing with Jamie Proctor and Gareth Evans scoring the goals at Glanford Park. Fleetwood were one of five teams to have won two out of two but the other four clubs - Peterborough, Bristol City, Chesterfield and Crawley - all hit their first stumbling blocks. Posh were defeated 2-1 by Sheffield United, who had lost both of their opening contests. Jose Baxter’s opener gave the Blades a first-half lead, and although it was later cancelled out by Shaun Brisley’s goal, Ben Davies snatched a winner six minutes from time. In the lead: Jose Baxter (right) celebrates opening the scoring for Sheffield United . Up for the battle: Sheffield United's Michael Doyle (left) challenges Peterborough's Kyle Vassell in a keenly-contested clash . Bristol City, who beat Nigel Clough’s men on the opening day, were held to a goalless draw by last season's play-off finalists Leyton Orient while Chesterfield, the League Two champions, were beaten 1-0 by MK Dons, who play Manchester United in the Capital One Cup in seven days’ time. Arsenal loanee Benik Afobe scored the only goal of the game just after the break. Meanwhile, Crawley lost their unbeaten status, while Bradford maintained theirs, thanks to a 3-1 win for the Bantams. James Hanson became the first player to score against Crawley this season after 49 minutes before Joe Walsh equalised five minutes later. Heads up: Bristol City's Korey Smith (left) and Leyton Orient's Lloyd James go up for a header . But strikes from Billy Knott and Mason Bennett sealed an impressive away win Phil Parkinson's men. Bradford are now second behind Fleetwood after Doncaster’s stoppage-time equaliser meant Preston, for whom Joe Garner signed a new contract earlier on Tuesday, were held to a 1-1 draw which slipped them down the table. Chris Humphrey looked to have secured the points for the Lilywhites but Nathan Tyson struck a last-gasp leveller. Stand-in striker Matt Done scored a hat-trick for Rochdale in the evening’s high-scoring affair as Crewe were hammered 5-2. Marcus Haber marked his full Railwaymen debut with a brace but Done’s treble and goals from Ian Henderson and Peter Vincenti helped Keith Hill’s men to a big away victory. There were plenty of goals between Coventry and Barnsley too in a 2-2 draw with all four goals coming in the first half. Josh McQuoid and Jordan Clarke twice gave the Sky Blues the lead, but the Tykes earned a point thanks to strikes from Conor Hourihane and Leroy Lita. Notts County recorded a 2-1 home win over Colchester with Ronan Murray and Liam Noble on target. Freddie Sears replied for Colchester. James Wilson's second half equaliser earned Oldham a points against Port Vale after Tom Pope's opener and Yeovil claimed a 2-1 away victory at Walsall with Kevin Dawson striking a late winner. Tom Bradshaw had equalised after veteran James Hayter gave the Glovers the lead. Finally, Swindon held Gillingham to a 2-2 draw thanks to Stephen Bywater’s last-minute own goal. Danny Kedwell and Kortney Hause twice gave the Gills the lead but Andy Williams pulled Swindon level before Bywater dropped Raphael Branco's cross into his own net.\nREFERENCE SUMMARY:\n Fleetwood top of League One after 2-0 win at Scunthorpe .\nPeterborough, Bristol City, Chesterfield and Crawley all drop first points of the season .\nStand-in striker Matt Done scores a hat-trick as Rochdale thrash Crewe 5-2 .\nWins for Notts County and Yeovil .\nCoventry/Bradford and Oldham/Port Vale both end in draws .\nA late Stephen Bywater own goal denies Gillingham three points against Millwall .\nPREDICTED SUMMARY:\n Fleetwood are the only team to have a 100% record in Sky Bet League One. Peterborough, Bristol City, Chesterfield and Crawley all hit their first stumbling blocks. Chesterfield, the League Two champions, were beaten 1-0 by MK Dons. Preston were held to a goalless draw by last season's play-off finalists Leyton Orient and Chesterfield, the League Two champions, were held to a goalless draw by last season's play-off\n--------------------------------------------------------------------------------\n",
          "output_type": "stream"
        }
      ],
      "execution_count": null
    },
    {
      "cell_type": "code",
      "source": [
        "!pip install bert_score\n"
      ],
      "metadata": {
        "trusted": true,
        "execution": {
          "iopub.status.busy": "2025-05-06T09:56:27.217719Z",
          "iopub.execute_input": "2025-05-06T09:56:27.218309Z",
          "iopub.status.idle": "2025-05-06T09:57:51.325931Z",
          "shell.execute_reply.started": "2025-05-06T09:56:27.218285Z",
          "shell.execute_reply": "2025-05-06T09:57:51.325206Z"
        },
        "id": "f7fJIS4h_PGj",
        "outputId": "ed9e2216-17da-477d-f57a-54580eb412c7"
      },
      "outputs": [
        {
          "name": "stdout",
          "text": "Collecting bert_score\n  Downloading bert_score-0.3.13-py3-none-any.whl.metadata (15 kB)\nRequirement already satisfied: torch>=1.0.0 in /usr/local/lib/python3.11/dist-packages (from bert_score) (2.5.1+cu124)\nRequirement already satisfied: pandas>=1.0.1 in /usr/local/lib/python3.11/dist-packages (from bert_score) (2.2.3)\nRequirement already satisfied: transformers>=3.0.0 in /usr/local/lib/python3.11/dist-packages (from bert_score) (4.51.3)\nRequirement already satisfied: numpy in /usr/local/lib/python3.11/dist-packages (from bert_score) (1.26.4)\nRequirement already satisfied: requests in /usr/local/lib/python3.11/dist-packages (from bert_score) (2.32.3)\nRequirement already satisfied: tqdm>=4.31.1 in /usr/local/lib/python3.11/dist-packages (from bert_score) (4.67.1)\nRequirement already satisfied: matplotlib in /usr/local/lib/python3.11/dist-packages (from bert_score) (3.7.5)\nRequirement already satisfied: packaging>=20.9 in /usr/local/lib/python3.11/dist-packages (from bert_score) (24.2)\nRequirement already satisfied: python-dateutil>=2.8.2 in /usr/local/lib/python3.11/dist-packages (from pandas>=1.0.1->bert_score) (2.9.0.post0)\nRequirement already satisfied: pytz>=2020.1 in /usr/local/lib/python3.11/dist-packages (from pandas>=1.0.1->bert_score) (2025.2)\nRequirement already satisfied: tzdata>=2022.7 in /usr/local/lib/python3.11/dist-packages (from pandas>=1.0.1->bert_score) (2025.2)\nRequirement already satisfied: mkl_fft in /usr/local/lib/python3.11/dist-packages (from numpy->bert_score) (1.3.8)\nRequirement already satisfied: mkl_random in /usr/local/lib/python3.11/dist-packages (from numpy->bert_score) (1.2.4)\nRequirement already satisfied: mkl_umath in /usr/local/lib/python3.11/dist-packages (from numpy->bert_score) (0.1.1)\nRequirement already satisfied: mkl in /usr/local/lib/python3.11/dist-packages (from numpy->bert_score) (2025.1.0)\nRequirement already satisfied: tbb4py in /usr/local/lib/python3.11/dist-packages (from numpy->bert_score) (2022.1.0)\nRequirement already satisfied: mkl-service in /usr/local/lib/python3.11/dist-packages (from numpy->bert_score) (2.4.1)\nRequirement already satisfied: filelock in /usr/local/lib/python3.11/dist-packages (from torch>=1.0.0->bert_score) (3.18.0)\nRequirement already satisfied: typing-extensions>=4.8.0 in /usr/local/lib/python3.11/dist-packages (from torch>=1.0.0->bert_score) (4.13.1)\nRequirement already satisfied: networkx in /usr/local/lib/python3.11/dist-packages (from torch>=1.0.0->bert_score) (3.4.2)\nRequirement already satisfied: jinja2 in /usr/local/lib/python3.11/dist-packages (from torch>=1.0.0->bert_score) (3.1.6)\nRequirement already satisfied: fsspec in /usr/local/lib/python3.11/dist-packages (from torch>=1.0.0->bert_score) (2024.12.0)\nRequirement already satisfied: nvidia-cuda-nvrtc-cu12==12.4.127 in /usr/local/lib/python3.11/dist-packages (from torch>=1.0.0->bert_score) (12.4.127)\nRequirement already satisfied: nvidia-cuda-runtime-cu12==12.4.127 in /usr/local/lib/python3.11/dist-packages (from torch>=1.0.0->bert_score) (12.4.127)\nRequirement already satisfied: nvidia-cuda-cupti-cu12==12.4.127 in /usr/local/lib/python3.11/dist-packages (from torch>=1.0.0->bert_score) (12.4.127)\nCollecting nvidia-cudnn-cu12==9.1.0.70 (from torch>=1.0.0->bert_score)\n  Downloading nvidia_cudnn_cu12-9.1.0.70-py3-none-manylinux2014_x86_64.whl.metadata (1.6 kB)\nCollecting nvidia-cublas-cu12==12.4.5.8 (from torch>=1.0.0->bert_score)\n  Downloading nvidia_cublas_cu12-12.4.5.8-py3-none-manylinux2014_x86_64.whl.metadata (1.5 kB)\nCollecting nvidia-cufft-cu12==11.2.1.3 (from torch>=1.0.0->bert_score)\n  Downloading nvidia_cufft_cu12-11.2.1.3-py3-none-manylinux2014_x86_64.whl.metadata (1.5 kB)\nCollecting nvidia-curand-cu12==10.3.5.147 (from torch>=1.0.0->bert_score)\n  Downloading nvidia_curand_cu12-10.3.5.147-py3-none-manylinux2014_x86_64.whl.metadata (1.5 kB)\nCollecting nvidia-cusolver-cu12==11.6.1.9 (from torch>=1.0.0->bert_score)\n  Downloading nvidia_cusolver_cu12-11.6.1.9-py3-none-manylinux2014_x86_64.whl.metadata (1.6 kB)\nCollecting nvidia-cusparse-cu12==12.3.1.170 (from torch>=1.0.0->bert_score)\n  Downloading nvidia_cusparse_cu12-12.3.1.170-py3-none-manylinux2014_x86_64.whl.metadata (1.6 kB)\nRequirement already satisfied: nvidia-nccl-cu12==2.21.5 in /usr/local/lib/python3.11/dist-packages (from torch>=1.0.0->bert_score) (2.21.5)\nRequirement already satisfied: nvidia-nvtx-cu12==12.4.127 in /usr/local/lib/python3.11/dist-packages (from torch>=1.0.0->bert_score) (12.4.127)\nCollecting nvidia-nvjitlink-cu12==12.4.127 (from torch>=1.0.0->bert_score)\n  Downloading nvidia_nvjitlink_cu12-12.4.127-py3-none-manylinux2014_x86_64.whl.metadata (1.5 kB)\nRequirement already satisfied: triton==3.1.0 in /usr/local/lib/python3.11/dist-packages (from torch>=1.0.0->bert_score) (3.1.0)\nRequirement already satisfied: sympy==1.13.1 in /usr/local/lib/python3.11/dist-packages (from torch>=1.0.0->bert_score) (1.13.1)\nRequirement already satisfied: mpmath<1.4,>=1.1.0 in /usr/local/lib/python3.11/dist-packages (from sympy==1.13.1->torch>=1.0.0->bert_score) (1.3.0)\nRequirement already satisfied: huggingface-hub<1.0,>=0.30.0 in /usr/local/lib/python3.11/dist-packages (from transformers>=3.0.0->bert_score) (0.30.2)\nRequirement already satisfied: pyyaml>=5.1 in /usr/local/lib/python3.11/dist-packages (from transformers>=3.0.0->bert_score) (6.0.2)\nRequirement already satisfied: regex!=2019.12.17 in /usr/local/lib/python3.11/dist-packages (from transformers>=3.0.0->bert_score) (2024.11.6)\nRequirement already satisfied: tokenizers<0.22,>=0.21 in /usr/local/lib/python3.11/dist-packages (from transformers>=3.0.0->bert_score) (0.21.0)\nRequirement already satisfied: safetensors>=0.4.3 in /usr/local/lib/python3.11/dist-packages (from transformers>=3.0.0->bert_score) (0.5.2)\nRequirement already satisfied: contourpy>=1.0.1 in /usr/local/lib/python3.11/dist-packages (from matplotlib->bert_score) (1.3.1)\nRequirement already satisfied: cycler>=0.10 in /usr/local/lib/python3.11/dist-packages (from matplotlib->bert_score) (0.12.1)\nRequirement already satisfied: fonttools>=4.22.0 in /usr/local/lib/python3.11/dist-packages (from matplotlib->bert_score) (4.56.0)\nRequirement already satisfied: kiwisolver>=1.0.1 in /usr/local/lib/python3.11/dist-packages (from matplotlib->bert_score) (1.4.8)\nRequirement already satisfied: pillow>=6.2.0 in /usr/local/lib/python3.11/dist-packages (from matplotlib->bert_score) (11.1.0)\nRequirement already satisfied: pyparsing>=2.3.1 in /usr/local/lib/python3.11/dist-packages (from matplotlib->bert_score) (3.2.1)\nRequirement already satisfied: charset-normalizer<4,>=2 in /usr/local/lib/python3.11/dist-packages (from requests->bert_score) (3.4.1)\nRequirement already satisfied: idna<4,>=2.5 in /usr/local/lib/python3.11/dist-packages (from requests->bert_score) (3.10)\nRequirement already satisfied: urllib3<3,>=1.21.1 in /usr/local/lib/python3.11/dist-packages (from requests->bert_score) (2.3.0)\nRequirement already satisfied: certifi>=2017.4.17 in /usr/local/lib/python3.11/dist-packages (from requests->bert_score) (2025.1.31)\nRequirement already satisfied: six>=1.5 in /usr/local/lib/python3.11/dist-packages (from python-dateutil>=2.8.2->pandas>=1.0.1->bert_score) (1.17.0)\nRequirement already satisfied: MarkupSafe>=2.0 in /usr/local/lib/python3.11/dist-packages (from jinja2->torch>=1.0.0->bert_score) (3.0.2)\nRequirement already satisfied: intel-openmp<2026,>=2024 in /usr/local/lib/python3.11/dist-packages (from mkl->numpy->bert_score) (2024.2.0)\nRequirement already satisfied: tbb==2022.* in /usr/local/lib/python3.11/dist-packages (from mkl->numpy->bert_score) (2022.1.0)\nRequirement already satisfied: tcmlib==1.* in /usr/local/lib/python3.11/dist-packages (from tbb==2022.*->mkl->numpy->bert_score) (1.2.0)\nRequirement already satisfied: intel-cmplr-lib-rt in /usr/local/lib/python3.11/dist-packages (from mkl_umath->numpy->bert_score) (2024.2.0)\nRequirement already satisfied: intel-cmplr-lib-ur==2024.2.0 in /usr/local/lib/python3.11/dist-packages (from intel-openmp<2026,>=2024->mkl->numpy->bert_score) (2024.2.0)\nDownloading bert_score-0.3.13-py3-none-any.whl (61 kB)\n\u001b[2K   \u001b[90m━━━━━━━━━━━━━━━━━━━━━━━━━━━━━━━━━━━━━━━━\u001b[0m \u001b[32m61.1/61.1 kB\u001b[0m \u001b[31m1.6 MB/s\u001b[0m eta \u001b[36m0:00:00\u001b[0m\n\u001b[?25hDownloading nvidia_cublas_cu12-12.4.5.8-py3-none-manylinux2014_x86_64.whl (363.4 MB)\n\u001b[2K   \u001b[90m━━━━━━━━━━━━━━━━━━━━━━━━━━━━━━━━━━━━━━━━\u001b[0m \u001b[32m363.4/363.4 MB\u001b[0m \u001b[31m4.6 MB/s\u001b[0m eta \u001b[36m0:00:00\u001b[0m0:00:01\u001b[0m00:01\u001b[0m\n\u001b[?25hDownloading nvidia_cudnn_cu12-9.1.0.70-py3-none-manylinux2014_x86_64.whl (664.8 MB)\n\u001b[2K   \u001b[90m━━━━━━━━━━━━━━━━━━━━━━━━━━━━━━━━━━━━━━━━\u001b[0m \u001b[32m664.8/664.8 MB\u001b[0m \u001b[31m1.9 MB/s\u001b[0m eta \u001b[36m0:00:00\u001b[0m0:00:01\u001b[0m00:01\u001b[0m\n\u001b[?25hDownloading nvidia_cufft_cu12-11.2.1.3-py3-none-manylinux2014_x86_64.whl (211.5 MB)\n\u001b[2K   \u001b[90m━━━━━━━━━━━━━━━━━━━━━━━━━━━━━━━━━━━━━━━━\u001b[0m \u001b[32m211.5/211.5 MB\u001b[0m \u001b[31m2.3 MB/s\u001b[0m eta \u001b[36m0:00:00\u001b[0m0:00:01\u001b[0m00:01\u001b[0m\n\u001b[?25hDownloading nvidia_curand_cu12-10.3.5.147-py3-none-manylinux2014_x86_64.whl (56.3 MB)\n\u001b[2K   \u001b[90m━━━━━━━━━━━━━━━━━━━━━━━━━━━━━━━━━━━━━━━━\u001b[0m \u001b[32m56.3/56.3 MB\u001b[0m \u001b[31m31.0 MB/s\u001b[0m eta \u001b[36m0:00:00\u001b[0m:00:01\u001b[0m00:01\u001b[0m\n\u001b[?25hDownloading nvidia_cusolver_cu12-11.6.1.9-py3-none-manylinux2014_x86_64.whl (127.9 MB)\n\u001b[2K   \u001b[90m━━━━━━━━━━━━━━━━━━━━━━━━━━━━━━━━━━━━━━━━\u001b[0m \u001b[32m127.9/127.9 MB\u001b[0m \u001b[31m13.5 MB/s\u001b[0m eta \u001b[36m0:00:00\u001b[0m:00:01\u001b[0m00:01\u001b[0m\n\u001b[?25hDownloading nvidia_cusparse_cu12-12.3.1.170-py3-none-manylinux2014_x86_64.whl (207.5 MB)\n\u001b[2K   \u001b[90m━━━━━━━━━━━━━━━━━━━━━━━━━━━━━━━━━━━━━━━━\u001b[0m \u001b[32m207.5/207.5 MB\u001b[0m \u001b[31m8.2 MB/s\u001b[0m eta \u001b[36m0:00:00\u001b[0m0:00:01\u001b[0m00:01\u001b[0m\n\u001b[?25hDownloading nvidia_nvjitlink_cu12-12.4.127-py3-none-manylinux2014_x86_64.whl (21.1 MB)\n\u001b[2K   \u001b[90m━━━━━━━━━━━━━━━━━━━━━━━━━━━━━━━━━━━━━━━━\u001b[0m \u001b[32m21.1/21.1 MB\u001b[0m \u001b[31m83.9 MB/s\u001b[0m eta \u001b[36m0:00:00\u001b[0m:00:01\u001b[0m00:01\u001b[0m\n\u001b[?25hInstalling collected packages: nvidia-nvjitlink-cu12, nvidia-curand-cu12, nvidia-cufft-cu12, nvidia-cublas-cu12, nvidia-cusparse-cu12, nvidia-cudnn-cu12, nvidia-cusolver-cu12, bert_score\n  Attempting uninstall: nvidia-nvjitlink-cu12\n    Found existing installation: nvidia-nvjitlink-cu12 12.8.93\n    Uninstalling nvidia-nvjitlink-cu12-12.8.93:\n      Successfully uninstalled nvidia-nvjitlink-cu12-12.8.93\n  Attempting uninstall: nvidia-curand-cu12\n    Found existing installation: nvidia-curand-cu12 10.3.9.90\n    Uninstalling nvidia-curand-cu12-10.3.9.90:\n      Successfully uninstalled nvidia-curand-cu12-10.3.9.90\n  Attempting uninstall: nvidia-cufft-cu12\n    Found existing installation: nvidia-cufft-cu12 11.3.3.83\n    Uninstalling nvidia-cufft-cu12-11.3.3.83:\n      Successfully uninstalled nvidia-cufft-cu12-11.3.3.83\n  Attempting uninstall: nvidia-cublas-cu12\n    Found existing installation: nvidia-cublas-cu12 12.8.4.1\n    Uninstalling nvidia-cublas-cu12-12.8.4.1:\n      Successfully uninstalled nvidia-cublas-cu12-12.8.4.1\n  Attempting uninstall: nvidia-cusparse-cu12\n    Found existing installation: nvidia-cusparse-cu12 12.5.8.93\n    Uninstalling nvidia-cusparse-cu12-12.5.8.93:\n      Successfully uninstalled nvidia-cusparse-cu12-12.5.8.93\n  Attempting uninstall: nvidia-cudnn-cu12\n    Found existing installation: nvidia-cudnn-cu12 9.3.0.75\n    Uninstalling nvidia-cudnn-cu12-9.3.0.75:\n      Successfully uninstalled nvidia-cudnn-cu12-9.3.0.75\n  Attempting uninstall: nvidia-cusolver-cu12\n    Found existing installation: nvidia-cusolver-cu12 11.7.3.90\n    Uninstalling nvidia-cusolver-cu12-11.7.3.90:\n      Successfully uninstalled nvidia-cusolver-cu12-11.7.3.90\n\u001b[31mERROR: pip's dependency resolver does not currently take into account all the packages that are installed. This behaviour is the source of the following dependency conflicts.\npylibcugraph-cu12 24.12.0 requires pylibraft-cu12==24.12.*, but you have pylibraft-cu12 25.2.0 which is incompatible.\npylibcugraph-cu12 24.12.0 requires rmm-cu12==24.12.*, but you have rmm-cu12 25.2.0 which is incompatible.\u001b[0m\u001b[31m\n\u001b[0mSuccessfully installed bert_score-0.3.13 nvidia-cublas-cu12-12.4.5.8 nvidia-cudnn-cu12-9.1.0.70 nvidia-cufft-cu12-11.2.1.3 nvidia-curand-cu12-10.3.5.147 nvidia-cusolver-cu12-11.6.1.9 nvidia-cusparse-cu12-12.3.1.170 nvidia-nvjitlink-cu12-12.4.127\n",
          "output_type": "stream"
        }
      ],
      "execution_count": null
    },
    {
      "cell_type": "code",
      "source": [
        "bertscore = evaluate.load(\"bertscore\")\n",
        "\n",
        "bertscore_result = bertscore.compute(\n",
        "    predictions=predicted_dataset[\"predicted_summary\"],\n",
        "    references=predicted_dataset[\"highlights\"],\n",
        "    lang=\"en\"\n",
        ")\n",
        "\n",
        "print(f\"BERTScore - Precision: {sum(bertscore_result['precision'])/len(bertscore_result['precision']):.4f}\")\n",
        "print(f\"BERTScore - Recall: {sum(bertscore_result['recall'])/len(bertscore_result['recall']):.4f}\")\n",
        "print(f\"BERTScore - F1: {sum(bertscore_result['f1'])/len(bertscore_result['f1']):.4f}\")\n"
      ],
      "metadata": {
        "trusted": true,
        "execution": {
          "iopub.status.busy": "2025-05-06T09:58:17.608403Z",
          "iopub.execute_input": "2025-05-06T09:58:17.608737Z",
          "iopub.status.idle": "2025-05-06T09:58:42.994415Z",
          "shell.execute_reply.started": "2025-05-06T09:58:17.608712Z",
          "shell.execute_reply": "2025-05-06T09:58:42.993604Z"
        },
        "colab": {
          "referenced_widgets": [
            "9134b214c7cf47a0acef556804020a8e",
            "d0761486472447ef876f66a38f1a7446",
            "dab4be9e801742f8acbec0e72dea2bf3",
            "c4a8bfb562b342a19afd841f26488c33",
            "11173717d9fd445fbd3465a640a4163d",
            "8d5daac8b345408cb1d24d3a7c402db3"
          ]
        },
        "id": "xu9fjPC5_PGk",
        "outputId": "c53b0823-32f0-4085-8aa6-601717a63121"
      },
      "outputs": [
        {
          "output_type": "display_data",
          "data": {
            "text/plain": "tokenizer_config.json:   0%|          | 0.00/25.0 [00:00<?, ?B/s]",
            "application/vnd.jupyter.widget-view+json": {
              "version_major": 2,
              "version_minor": 0,
              "model_id": "9134b214c7cf47a0acef556804020a8e"
            }
          },
          "metadata": {}
        },
        {
          "output_type": "display_data",
          "data": {
            "text/plain": "config.json:   0%|          | 0.00/482 [00:00<?, ?B/s]",
            "application/vnd.jupyter.widget-view+json": {
              "version_major": 2,
              "version_minor": 0,
              "model_id": "d0761486472447ef876f66a38f1a7446"
            }
          },
          "metadata": {}
        },
        {
          "output_type": "display_data",
          "data": {
            "text/plain": "vocab.json:   0%|          | 0.00/899k [00:00<?, ?B/s]",
            "application/vnd.jupyter.widget-view+json": {
              "version_major": 2,
              "version_minor": 0,
              "model_id": "dab4be9e801742f8acbec0e72dea2bf3"
            }
          },
          "metadata": {}
        },
        {
          "output_type": "display_data",
          "data": {
            "text/plain": "merges.txt:   0%|          | 0.00/456k [00:00<?, ?B/s]",
            "application/vnd.jupyter.widget-view+json": {
              "version_major": 2,
              "version_minor": 0,
              "model_id": "c4a8bfb562b342a19afd841f26488c33"
            }
          },
          "metadata": {}
        },
        {
          "output_type": "display_data",
          "data": {
            "text/plain": "tokenizer.json:   0%|          | 0.00/1.36M [00:00<?, ?B/s]",
            "application/vnd.jupyter.widget-view+json": {
              "version_major": 2,
              "version_minor": 0,
              "model_id": "11173717d9fd445fbd3465a640a4163d"
            }
          },
          "metadata": {}
        },
        {
          "name": "stderr",
          "text": "Xet Storage is enabled for this repo, but the 'hf_xet' package is not installed. Falling back to regular HTTP download. For better performance, install the package with: `pip install huggingface_hub[hf_xet]` or `pip install hf_xet`\n",
          "output_type": "stream"
        },
        {
          "output_type": "display_data",
          "data": {
            "text/plain": "model.safetensors:   0%|          | 0.00/1.42G [00:00<?, ?B/s]",
            "application/vnd.jupyter.widget-view+json": {
              "version_major": 2,
              "version_minor": 0,
              "model_id": "8d5daac8b345408cb1d24d3a7c402db3"
            }
          },
          "metadata": {}
        },
        {
          "name": "stderr",
          "text": "Some weights of RobertaModel were not initialized from the model checkpoint at roberta-large and are newly initialized: ['pooler.dense.bias', 'pooler.dense.weight']\nYou should probably TRAIN this model on a down-stream task to be able to use it for predictions and inference.\n",
          "output_type": "stream"
        },
        {
          "name": "stdout",
          "text": "BERTScore - Precision: 0.8680\nBERTScore - Recall: 0.8683\nBERTScore - F1: 0.8680\n",
          "output_type": "stream"
        }
      ],
      "execution_count": null
    },
    {
      "cell_type": "code",
      "source": [],
      "metadata": {
        "trusted": true,
        "id": "QsUGEx7g_PGk"
      },
      "outputs": [],
      "execution_count": null
    }
  ]
}